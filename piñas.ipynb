{
 "cells": [
  {
   "cell_type": "markdown",
   "metadata": {},
   "source": [
    " # Osciladores biológicos #  \n",
    "\n",
    "Bien sea la respiración, la elaboración de marcapasos para asistir la actividad cardiaca o la secreción de testosterona en los hombres, existen varios sistemas biológicos que exhiben un carácter oscilatorio. Una primera aproximación para el estudio de estos sistemas desemboca en ecuaciones diferenciales ordinarias del tipo:\n",
    "\n",
    "$$\\dfrac{du}{dt} = f(u)$$\n",
    "\n",
    "Donde, para sistemas periódicos se tiene:\n",
    "\n",
    "$$u(t+T)= (t) $$\n",
    "\n",
    "con el periodo $T>0$\n",
    "\n",
    "No obstante, existen casos (como en la síntesis de enzimas durante la división celular o en el estudiado en este trabajo) donde el sistema viene regulado por un control de retroalimentación. En este sentido, el sistema viene dado por una serie de reacciones ligadas, llevándose acabo una reacción seguida de otra y en donde la primera de éstas viene regulada por una función de retroalimentación que involucra la última reacción, i.e. si tenemos n reacciones:\n",
    "$$ \\dfrac{d u_1}{dt} = f(u_n )k_1 u_1 $$ \n",
    "$$ \\dfrac{d u_r}{dt}= u_{r-1} -k_r u_r $$\n",
    "\n",
    "con $r=2,3,...,n$ , $ k_r > 0 $ constantes determinadas por el sistema en cuestión y $ f(u)$ la función de retroalimentación.\n",
    "\n",
    "Los trabajos de Tyson y de Othmer(1978) y Yagil (1971) muestran que la función de retroalimentación tiene que ser una función siempre positiva y monótona decreciente _para asegurar la unicidad de las soluciones de estado estacionario_\n",
    "\n",
    "\n",
    "\n",
    "\n"
   ]
  },
  {
   "cell_type": "markdown",
   "metadata": {},
   "source": [
    "# Características de la testosterona #\n",
    "\n",
    "La testosterona es una hormona cuya función principal es estimular el desarrollo de los caracteres sexuales masculinos, y está presente en mamíferos, reptiles y aves. Para el ser humano, en los hombres el nivel de testosterona se encuentra entre 10-35 nanomoles por litro de sangre, mientras que en las mujeres es de 0.7-2.7 nanomoles por litro. La testosterona es principalmente producida en los testículos en los hombres y en los ovarios de las mujeres, en los hombres, los niveles de testoterona oscilan con un periodo de 2 a 3 horas.\n",
    "\n",
    "Existen cambios de personalidad relacionados con la concentración de testosterona en la sangre, por ejemplo niveles bajos de testosterona vienen acompañados con actitudes dóciles en los sujetos, además, pacientes que padecen de cáncer de próstata, son sometidos a un tratamiento que involucra la toma de _Goserelina_, una droga que al término de un par de semanas reduce el nivel de testosterona al grado que se alcanzaría a través de la castración. \n",
    "\n",
    "## Secreción de la testosterona##\n",
    "\n",
    "La secreción de testosterona (T) por parte de las gónadas viene regulada por la hormona luteinizante (LH) generada en la glándula pituitaria, esta última viene regulada, a su vez, por la hormona liberadora de hormona luteinizante (LHRH) que es secretada en el hipotálamo. Además la testosterona ejerce una retroalimentación en la producción de LHRH. \n",
    "\n",
    "Entonces, en este sistema, el hipotálamo secreta hormona liberadora de hormona luteinizante que es llevada a través del torrente sanguíneo a la glándula pituitaria, donde se controla la secreción de hormona luteinizante que finalmente controla la producción de testosterona en las gónadas, es entonces que se ejerce la retroalimentación entre de los testículos hacia el hipotálamo.\n",
    "\n",
    "\n",
    "Entonces, denotando a T, LH y LHRH por $T(t) L(t)$ y $R(t)$ respectivamente, tenemos que:"
   ]
  },
  {
   "cell_type": "markdown",
   "metadata": {},
   "source": [
    "## Modelo para la esquizofrenia catatónica ##\n",
    "\n",
    "Danzinger y Elmergreen postularon en (1956) un trabajo (analziado posteriormente por Cronin en 1976) en donde se modela matemáticamente la esquizofrenia catatónica periódica, este modelo es similar a:\n",
    "\n",
    "$$ \\frac{dR}{dt} = f(T)-b_{1}R$$\n",
    "$$ \\frac{dL}{dt} = g_{1}R-b_{2}L $$\n",
    "$$ \\frac{dT}{dt} = g_{2}L-b_{3}T $$\n",
    "\n",
    "pero la función de retroalimentación f(t) que emplearon en este caso es de la forma:\n",
    "\n",
    "$$ f(z) = (c-hz)[1-H(z-c/h)]  $$\n",
    "\n",
    "Donde $H(z)$ es la función escalón de Heaviside y $c,h$ son constantes y en donde los criterios de inestabilidad son (7) son:\n",
    "\n",
    "$$ K = \\dfrac{g_1 g_2 h}{b_1 b_2 b_3} > \\dfrac{a_1 a_2}{a_3} - 1 $$\n",
    "\n",
    "Dejando el criterio para (9):\n",
    "\n",
    "$$ K = \\dfrac{g_1 g_2 h}{b_1 b_2 b_3} > 8 $$ \n",
    "\n",
    "El análisis de Cronin mostró que cuando el punto de equilibrio es estable, no existen soluciones periódicas, sin embargo, cuando el punto de equilibrio es inestable las soluciones son periódicas, casi periódicas u oscilan de manera no peródica.\n",
    "\n",
    "Desde el punto de vista fisiológico, el modelo descrito por Danzinger y Elmergreen remplaza R, L, T por la hormona tirotropina, una enzima intermediaria y la hormona tiroidea, respectivamente. La esquizofrenia catatónica periódica se caracteriza por variaciones oscilantes de las concentraciones de estas hormonas, mientras que el estado saludable es caracterizado por una concentración constante de éstas. Estas situaciones corresponden, respectivamente, a puntos de equilibrio inestables y estables de:  \n",
    "\n",
    "$$ \\frac{dR}{dt} = (c-hT)[1-H(T-c/h)]-b_{1}R$$\n",
    "$$ \\frac{dL}{dt} = g_{1}R-b_{2}L $$\n",
    "$$ \\frac{dT}{dt} = g_{2}L-b_{3}T $$\n",
    "\n",
    "\n",
    "Danzinger y Elmergreen usaron este modelo para proponer un tratamiento para la esquizofrenia catatónica, en el cual si se añade un término constante al 3er término de la última ecuación, que sería el equivalente de tener una secreción constante de la hormona tiroidea, convierte la solución de equilibrio intestable (_patológica_) a una estable, recuperando el estado saludable para el paciente (_normal_). \n",
    "\n",
    "### Comparación entre el modelo de DE y el de secreción de testosterona###\n",
    "\n",
    "En el modelo DE para la esquizofrenia catatónica periódica y el modelo de secreción de testosterona, el estado \"_normal_\" y el \"_patológico_\" del sistema están intercambiados. Para la secreción de testosterona, concentraciones hormonales oscilantes corresponden al estado normal, mientras que en el modelo DE el estado normal se da con concentraciones hormonales constantes."
   ]
  },
  {
   "cell_type": "markdown",
   "metadata": {},
   "source": [
    "En general para primer aproximación:\n",
    "\n",
    "$$ \\frac{dR}{dt} = f(T)-b_{1}R$$\n",
    "$$ \\frac{dL}{dt} = g_{1}R-b_{2}L $$\n",
    "$$ \\frac{dT}{dt} = g_{2}L-b_{3}T $$\n",
    "\n",
    "\n",
    "Alrededor del punto de equilibrio se tiene:\n",
    "\n",
    "$$ \\frac{dx}{dt} = f'(T_{0})z-b_{1}x$$\n",
    "$$ \\frac{dy}{dt} = g_{1}x-b_{2}y $$\n",
    "$$ \\frac{dz}{dt} = g_{2}y(t-\\tau)-b_{3}T $$"
   ]
  },
  {
   "cell_type": "code",
   "execution_count": 29,
   "metadata": {
    "collapsed": false
   },
   "outputs": [
    {
     "name": "stderr",
     "output_type": "stream",
     "text": [
      "INFO: Recompiling stale cache file C:\\Users\\CesarDaniel\\.julia\\lib\\v0.4\\FixedPointNumbers.ji for module FixedPointNumbers.\n",
      "INFO: Recompiling stale cache file C:\\Users\\CesarDaniel\\.julia\\lib\\v0.4\\ColorTypes.ji for module ColorTypes.\n",
      "INFO: Recompiling stale cache file C:\\Users\\CesarDaniel\\.julia\\lib\\v0.4\\Colors.ji for module Colors.\n",
      "INFO: Recompiling stale cache file C:\\Users\\CesarDaniel\\.julia\\lib\\v0.4\\PyPlot.ji for module PyPlot.\n",
      "INFO: Recompiling stale cache file C:\\Users\\CesarDaniel\\.julia\\lib\\v0.4\\PyCall.ji for module PyCall.\n",
      "INFO: Recompiling stale cache file C:\\Users\\CesarDaniel\\.julia\\lib\\v0.4\\Conda.ji for module Conda.\n",
      "INFO: Recompiling stale cache file C:\\Users\\CesarDaniel\\.julia\\lib\\v0.4\\LaTeXStrings.ji for module LaTeXStrings.\n"
     ]
    }
   ],
   "source": [
    "using PyPlot\n",
    "using TaylorSeries"
   ]
  },
  {
   "cell_type": "code",
   "execution_count": 7,
   "metadata": {
    "collapsed": false
   },
   "outputs": [
    {
     "data": {
      "text/plain": [
       "h_find (generic function with 1 method)"
      ]
     },
     "execution_count": 7,
     "metadata": {},
     "output_type": "execute_result"
    }
   ],
   "source": [
    "function h_find(x::Array,p::Int)\n",
    "    h1 = (1/10)*(eps(1.0)/abs(x[p+1]))^(1/p)\n",
    "    h2 = (1/10)*(eps(1.0)/abs(x[p]))^(1/(p-1))\n",
    "    if h1 - h2 >= 0\n",
    "        return h2\n",
    "    else\n",
    "        return h1\n",
    "    end\n",
    "end"
   ]
  },
  {
   "cell_type": "code",
   "execution_count": 16,
   "metadata": {
    "collapsed": false
   },
   "outputs": [
    {
     "data": {
      "text/plain": [
       "7"
      ]
     },
     "execution_count": 16,
     "metadata": {},
     "output_type": "execute_result"
    }
   ],
   "source": [
    "evaluate(Taylor1([5,1],10),2)"
   ]
  },
  {
   "cell_type": "code",
   "execution_count": 17,
   "metadata": {
    "collapsed": false
   },
   "outputs": [
    {
     "data": {
      "text/plain": [
       " 2 + 𝒪(t³)"
      ]
     },
     "execution_count": 17,
     "metadata": {},
     "output_type": "execute_result"
    }
   ],
   "source": [
    "Taylor1(2,2)"
   ]
  },
  {
   "cell_type": "code",
   "execution_count": 6,
   "metadata": {
    "collapsed": false
   },
   "outputs": [
    {
     "data": {
      "text/plain": [
       " 7.38905609893065 + 7.38905609893065 t + 𝒪(t²)"
      ]
     },
     "execution_count": 6,
     "metadata": {},
     "output_type": "execute_result"
    }
   ],
   "source": [
    "exp(ans)"
   ]
  },
  {
   "cell_type": "code",
   "execution_count": 49,
   "metadata": {
    "collapsed": false
   },
   "outputs": [
    {
     "data": {
      "text/plain": [
       "try1 (generic function with 2 methods)"
      ]
     },
     "execution_count": 49,
     "metadata": {},
     "output_type": "execute_result"
    }
   ],
   "source": [
    "function try1(R0::Number,T0::Number,L0::Number,p::Number,t0::Number,tf::Number)\n",
    "    b1=1\n",
    "    b2=3\n",
    "    b3=2\n",
    "    \n",
    "    g1=1\n",
    "    g2=1\n",
    "    A=2\n",
    "    K=1\n",
    "    m=12\n",
    "    t=[t0]\n",
    "    R=[R0]\n",
    "    L=[L0]\n",
    "    T=[T0]\n",
    "    while t0 < tf\n",
    "        RT=Taylor1(R0,p)\n",
    "        LT=Taylor1(L0,p)\n",
    "        TT=Taylor1(T0,p)\n",
    "        for i in range(1,p)\n",
    "            fT=A/(K+TT^m)\n",
    "            RT.coeffs[i+1] = fT.coeffs[i]-b1*RT.coeffs[i]/i\n",
    "            LT.coeffs[i+1] = g1*RT.coeffs[i]/i-b2*LT.coeffs[i]/i\n",
    "            TT.coeffs[i+1] = g2*LT.coeffs[i]/i-b3*TT.coeffs[i]/i\n",
    "        end\n",
    "        hR=h_find(RT.coeffs,p)\n",
    "        hL=h_find(LT.coeffs,p)\n",
    "        hT=h_find(TT.coeffs,p)\n",
    "        h=minimum([hR,hL,hT])\n",
    "        t0=t0+h\n",
    "        R0=evaluate(RT,h)\n",
    "        L0=evaluate(LT,h)\n",
    "        T0=evaluate(TT,h)\n",
    "        push!(t,t0)\n",
    "        push!(R,R0)\n",
    "        push!(L,L0)\n",
    "        push!(T,T0)\n",
    "    end\n",
    "    return (t,R,L,T)\n",
    "end"
   ]
  },
  {
   "cell_type": "code",
   "execution_count": 50,
   "metadata": {
    "collapsed": false
   },
   "outputs": [
    {
     "data": {
      "text/plain": [
       "([0.0,7.15714e-6,1.43143e-5,2.14715e-5,2.86288e-5,3.57861e-5,4.29434e-5,5.01008e-5,5.72582e-5,6.44156e-5  …  9.99779,9.99805,9.9983,9.99855,9.99881,9.99906,9.99931,9.99957,9.99982,10.0001],[1.0,0.999993,0.999986,0.999979,0.999971,0.999964,0.999957,0.99995,0.999943,0.999936  …  1.99987,1.99987,1.99987,1.99987,1.99987,1.99987,1.99987,1.99987,1.99987,1.99987],[3.0,2.99994,2.99989,2.99983,2.99977,2.99971,2.99966,2.9996,2.99954,2.99948  …  0.666601,0.666601,0.666601,0.666601,0.666601,0.666601,0.666601,0.666601,0.666601,0.666601],[2.0,1.99999,1.99999,1.99998,1.99997,1.99996,1.99996,1.99995,1.99994,1.99994  …  0.333268,0.333268,0.333268,0.333268,0.333268,0.333268,0.333268,0.333268,0.333268,0.333268])"
      ]
     },
     "execution_count": 50,
     "metadata": {},
     "output_type": "execute_result"
    }
   ],
   "source": [
    "try1(1.0,2.0,3.0,5,0.0,10.0)"
   ]
  },
  {
   "cell_type": "code",
   "execution_count": 51,
   "metadata": {
    "collapsed": false
   },
   "outputs": [],
   "source": [
    "t=try1(1.0,2.0,3.0,5,0.0,10.0)[1];\n",
    "R=try1(1.0,2.0,3.0,5,0.0,10.0)[2];\n",
    "L=try1(1.0,2.0,3.0,5,0.0,10.0)[3];\n",
    "T=try1(1.0,2.0,3.0,5,0.0,10.0)[4];"
   ]
  },
  {
   "cell_type": "code",
   "execution_count": 52,
   "metadata": {
    "collapsed": false
   },
   "outputs": [
    {
     "data": {
      "image/png": "[encoded data removed]",
      "text/plain": [
       "PyPlot.Figure(PyObject <matplotlib.figure.Figure object at 0x0000000023902940>)"
      ]
     },
     "metadata": {},
     "output_type": "display_data"
    },
    {
     "data": {
      "text/plain": [
       "1-element Array{Any,1}:\n",
       " PyObject <matplotlib.lines.Line2D object at 0x0000000021AE7128>"
      ]
     },
     "execution_count": 52,
     "metadata": {},
     "output_type": "execute_result"
    }
   ],
   "source": [
    "plot(t,R)\n",
    "plot(t,T)\n",
    "plot(t,L)"
   ]
  },
  {
   "cell_type": "code",
   "execution_count": 53,
   "metadata": {
    "collapsed": false
   },
   "outputs": [
    {
     "data": {
      "image/png": "[encoded data removed]",
      "text/plain": [
       "PyPlot.Figure(PyObject <matplotlib.figure.Figure object at 0x000000002632ACC0>)"
      ]
     },
     "metadata": {},
     "output_type": "display_data"
    },
    {
     "data": {
      "text/plain": [
       "1-element Array{Any,1}:\n",
       " PyObject <matplotlib.lines.Line2D object at 0x000000001CBDCF98>"
      ]
     },
     "execution_count": 53,
     "metadata": {},
     "output_type": "execute_result"
    }
   ],
   "source": [
    "plot(L,R)"
   ]
  },
  {
   "cell_type": "code",
   "execution_count": null,
   "metadata": {
    "collapsed": true
   },
   "outputs": [],
   "source": []
  }
 ],
 "metadata": {
  "kernelspec": {
   "display_name": "Julia 0.4.2",
   "language": "julia",
   "name": "julia-0.4"
  },
  "language_info": {
   "file_extension": ".jl",
   "mimetype": "application/julia",
   "name": "julia",
   "version": "0.4.2"
  }
 },
 "nbformat": 4,
 "nbformat_minor": 0
}
