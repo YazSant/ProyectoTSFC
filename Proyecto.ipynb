{
 "cells": [
  {
   "cell_type": "markdown",
   "metadata": {},
   "source": [
    "## Proyecto TSFC: Oscilaciones en Sistemas Biológicos\n",
    "\n",
    "## Comportamiento de Testosterona\n",
    "\n",
    "### Hernández de la Vega Alejandro\n",
    "### Rodríguez Rosenblueth César Daniel\n",
    "### Santiago Santos Eva Yazmín "
   ]
  },
  {
   "cell_type": "markdown",
   "metadata": {},
   "source": [
    "Para una primera aproximación se utiliza el siguiente modelo:\n",
    "\n",
    "$$ \\frac{dR}{dt} = f(T)-b_{1}R$$\n",
    "$$ \\frac{dL}{dt} = g_{1}R-b_{2}L $$\n",
    "$$ \\frac{dT}{dt} = g_{2}L-b_{3}T $$\n",
    "\n",
    "donde $b_{1}$, $b_{2}$, $b_{3}$, $g_{1}$, $g_{2}$ son parámetros positivos.\n",
    "\n",
    "\n",
    "Alrededor del punto de equilibrio se tiene:\n",
    "\n",
    "$$ \\frac{dx}{dt} = f'(T_{0})z(t) - b_{1}x(t) $$\n",
    "$$ \\frac{dy}{dt} = g_{1}x(t) - b_{2}y(t) $$\n",
    "$$ \\frac{dz}{dt} = g_{2}y(t-\\tau)-b_{3}z(t) $$\n",
    "\n",
    "Donde\n",
    "$$ z(t)=T(t)-T_{0} $$\n",
    "$$ y(t)=L(t)-L_{0} $$\n",
    "$$ x(t)=R(t)-R_{0} $$"
   ]
  },
  {
   "cell_type": "markdown",
   "metadata": {},
   "source": [
    "### Notas\n",
    "Hay que revisar lso valroes que da el artículo para K, son a partir de los cuales se encuentran las constantes de equilibrio para las tres funciones. Adicionalmente están dados en términos de las otras cinco variables de propocionalidad de la ecuación. \n",
    "\n",
    "De igual manera falta entender bien el valor de 'p' o 'm' (valor en el artículo y valor en el libro.)\n",
    "\n",
    "Agregar las descripciones biológicas de L,T y R"
   ]
  },
  {
   "cell_type": "code",
   "execution_count": 2,
   "metadata": {
    "collapsed": false
   },
   "outputs": [],
   "source": [
    "using PyPlot\n",
    "using TaylorSeries"
   ]
  },
  {
   "cell_type": "code",
   "execution_count": 3,
   "metadata": {
    "collapsed": false
   },
   "outputs": [
    {
     "data": {
      "text/plain": [
       "h_find (generic function with 1 method)"
      ]
     },
     "execution_count": 3,
     "metadata": {},
     "output_type": "execute_result"
    }
   ],
   "source": [
    "function h_find(x::Array,p::Int)\n",
    "    h1 = (1/10)*(eps(1.0)/abs(x[p+1]))^(1/p)\n",
    "    h2 = (1/10)*(eps(1.0)/abs(x[p]))^(1/(p-1))\n",
    "    if h1 - h2 >= 0\n",
    "        return h2\n",
    "    else\n",
    "        return h1\n",
    "    end\n",
    "end"
   ]
  },
  {
   "cell_type": "code",
   "execution_count": 4,
   "metadata": {
    "collapsed": false
   },
   "outputs": [
    {
     "data": {
      "text/plain": [
       "7"
      ]
     },
     "execution_count": 4,
     "metadata": {},
     "output_type": "execute_result"
    }
   ],
   "source": [
    "evaluate(Taylor1([5,1],10),2)"
   ]
  },
  {
   "cell_type": "code",
   "execution_count": 5,
   "metadata": {
    "collapsed": false
   },
   "outputs": [
    {
     "data": {
      "text/plain": [
       " 2 + 𝒪(t³)"
      ]
     },
     "execution_count": 5,
     "metadata": {},
     "output_type": "execute_result"
    }
   ],
   "source": [
    "Taylor1(2,2)"
   ]
  },
  {
   "cell_type": "code",
   "execution_count": 6,
   "metadata": {
    "collapsed": false
   },
   "outputs": [
    {
     "data": {
      "text/plain": [
       " 7.38905609893065 + 𝒪(t³)"
      ]
     },
     "execution_count": 6,
     "metadata": {},
     "output_type": "execute_result"
    }
   ],
   "source": [
    "exp(ans)"
   ]
  },
  {
   "cell_type": "code",
   "execution_count": 7,
   "metadata": {
    "collapsed": false
   },
   "outputs": [
    {
     "data": {
      "text/plain": [
       "Testosterone1 (generic function with 1 method)"
      ]
     },
     "execution_count": 7,
     "metadata": {},
     "output_type": "execute_result"
    }
   ],
   "source": [
    "function Testosterone1(R0::Number,T0::Number,L0::Number,p::Number,t0::Number,tf::Number)\n",
    "    b1=1.29\n",
    "    b2=0.97\n",
    "    b3=1.39\n",
    "    \n",
    "    g1=10\n",
    "    g2=0.7\n",
    "    A=2\n",
    "    K=1\n",
    "    m=12\n",
    "    t=[t0]\n",
    "    R=[R0]\n",
    "    L=[L0]\n",
    "    T=[T0]\n",
    "    while t0 < tf\n",
    "        RT=Taylor1(R0,p)\n",
    "        LT=Taylor1(L0,p)\n",
    "        TT=Taylor1(T0,p)\n",
    "        for i in range(1,p)\n",
    "            fT=A/(K+TT^m)\n",
    "            RT.coeffs[i+1] = fT.coeffs[i]-b1*RT.coeffs[i]/i\n",
    "            LT.coeffs[i+1] = g1*RT.coeffs[i]/i-b2*LT.coeffs[i]/i\n",
    "            TT.coeffs[i+1] = g2*LT.coeffs[i]/i-b3*TT.coeffs[i]/i\n",
    "        end\n",
    "        hR=h_find(RT.coeffs,p)\n",
    "        hL=h_find(LT.coeffs,p)\n",
    "        hT=h_find(TT.coeffs,p)\n",
    "        h=minimum([hR,hL,hT])\n",
    "        t0=t0+h\n",
    "        R0=evaluate(RT,h)\n",
    "        L0=evaluate(LT,h)\n",
    "        T0=evaluate(TT,h)\n",
    "        push!(t,t0)\n",
    "        push!(R,R0)\n",
    "        push!(L,L0)\n",
    "        push!(T,T0)\n",
    "    end\n",
    "    return (t,R,L,T)\n",
    "end"
   ]
  },
  {
   "cell_type": "code",
   "execution_count": 20,
   "metadata": {
    "collapsed": false
   },
   "outputs": [],
   "source": [
    "Testosterone1(1.0,2.0,3.0,5,0.0,10.0);"
   ]
  },
  {
   "cell_type": "code",
   "execution_count": 9,
   "metadata": {
    "collapsed": false
   },
   "outputs": [],
   "source": [
    "t=Testosterone1(1.0,2.0,3.0,5,0.0,10.0)[1];\n",
    "R=Testosterone1(1.0,2.0,3.0,5,0.0,10.0)[2];\n",
    "L=Testosterone1(1.0,2.0,3.0,5,0.0,10.0)[3];\n",
    "T=Testosterone1(1.0,2.0,3.0,5,0.0,10.0)[4];"
   ]
  },
  {
   "cell_type": "code",
   "execution_count": 10,
   "metadata": {
    "collapsed": false
   },
   "outputs": [
    {
     "data": {
      "image/png": "[encoded data removed]",
      "text/plain": [
       "PyPlot.Figure(PyObject <matplotlib.figure.Figure object at 0x00000000013B7F28>)"
      ]
     },
     "metadata": {},
     "output_type": "display_data"
    },
    {
     "data": {
      "text/plain": [
       "1-element Array{Any,1}:\n",
       " PyObject <matplotlib.lines.Line2D object at 0x000000001CBB9BE0>"
      ]
     },
     "execution_count": 10,
     "metadata": {},
     "output_type": "execute_result"
    }
   ],
   "source": [
    "plot(t,R,\"r.\")\n",
    "plot(t,T, \"b.\")\n",
    "plot(t,L, \"g.\")"
   ]
  },
  {
   "cell_type": "code",
   "execution_count": 11,
   "metadata": {
    "collapsed": false
   },
   "outputs": [
    {
     "data": {
      "image/png": "[encoded data removed]",
      "text/plain": [
       "PyPlot.Figure(PyObject <matplotlib.figure.Figure object at 0x000000001CBB9F98>)"
      ]
     },
     "metadata": {},
     "output_type": "display_data"
    },
    {
     "data": {
      "text/plain": [
       "1-element Array{Any,1}:\n",
       " PyObject <matplotlib.lines.Line2D object at 0x000000001CC9ED30>"
      ]
     },
     "execution_count": 11,
     "metadata": {},
     "output_type": "execute_result"
    }
   ],
   "source": [
    "plot(L,R)"
   ]
  },
  {
   "cell_type": "code",
   "execution_count": 35,
   "metadata": {
    "collapsed": false
   },
   "outputs": [
    {
     "data": {
      "text/plain": [
       "Castration (generic function with 1 method)"
      ]
     },
     "execution_count": 35,
     "metadata": {},
     "output_type": "execute_result"
    }
   ],
   "source": [
    "function Castration(R0::Number,T0::Number,L0::Number,p::Number,t0::Number,tf::Number)\n",
    "    b1=1.29\n",
    "    b2=0.97\n",
    "    b3=1.39\n",
    "    \n",
    "    g1=10\n",
    "    g2=0.0\n",
    "    A=2\n",
    "    K=1\n",
    "    m=12\n",
    "    t=[t0]\n",
    "    R=[R0]\n",
    "    L=[L0]\n",
    "    T=[T0]\n",
    "    while t0 < tf\n",
    "        RT=Taylor1(R0,p)\n",
    "        LT=Taylor1(L0,p)\n",
    "        TT=Taylor1(T0,p)\n",
    "        for i in range(1,p)\n",
    "            fT=A/(K+TT^m)\n",
    "            RT.coeffs[i+1] = fT.coeffs[i]-b1*RT.coeffs[i]/i\n",
    "            LT.coeffs[i+1] = g1*RT.coeffs[i]/i-b2*LT.coeffs[i]/i\n",
    "            TT.coeffs[i+1] = g2*LT.coeffs[i]/i-b3*TT.coeffs[i]/i\n",
    "        end\n",
    "        hR=h_find(RT.coeffs,p)\n",
    "        hL=h_find(LT.coeffs,p)\n",
    "        hT=h_find(TT.coeffs,p)\n",
    "        h=minimum([hR,hL,hT])\n",
    "        t0=t0+h\n",
    "        R0=evaluate(RT,h)\n",
    "        L0=evaluate(LT,h)\n",
    "        T0=evaluate(TT,h)\n",
    "        push!(t,t0)\n",
    "        push!(R,R0)\n",
    "        push!(L,L0)\n",
    "        push!(T,T0)\n",
    "    end\n",
    "    return (t,R,L,T)\n",
    "end"
   ]
  },
  {
   "cell_type": "code",
   "execution_count": 36,
   "metadata": {
    "collapsed": false
   },
   "outputs": [],
   "source": [
    "t_castration=Castration(1.0,2.0,3.0,5,0.0,10.0)[1];\n",
    "R_castration=Castration(1.0,2.0,3.0,5,0.0,10.0)[2];\n",
    "L_castration=Castration(1.0,2.0,3.0,5,0.0,10.0)[3];\n",
    "T_castration=Castration(1.0,2.0,3.0,5,0.0,10.0)[4];"
   ]
  },
  {
   "cell_type": "code",
   "execution_count": 37,
   "metadata": {
    "collapsed": false
   },
   "outputs": [
    {
     "data": {
      "image/png": "[encoded data removed]",
      "text/plain": [
       "PyPlot.Figure(PyObject <matplotlib.figure.Figure object at 0x000000001021A4A8>)"
      ]
     },
     "metadata": {},
     "output_type": "display_data"
    },
    {
     "data": {
      "text/plain": [
       "1-element Array{Any,1}:\n",
       " PyObject <matplotlib.lines.Line2D object at 0x000000001A31FFD0>"
      ]
     },
     "execution_count": 37,
     "metadata": {},
     "output_type": "execute_result"
    }
   ],
   "source": [
    "plot(t_castration,R_castration,\"r.\")\n",
    "plot(t_castration,T_castration, \"b.\")\n",
    "plot(t_castration,L_castration, \"g.\")"
   ]
  },
  {
   "cell_type": "code",
   "execution_count": null,
   "metadata": {
    "collapsed": true
   },
   "outputs": [],
   "source": []
  },
  {
   "cell_type": "markdown",
   "metadata": {},
   "source": [
    "Curiosamente se utiliza el mismo tipo de ecuación para describir la ezquisofrenia catatónica periódica. Cronin (1973,1976) propuso:\n",
    "\n",
    "$$\n",
    "f(t) = (c-ht)(1-H(t-c/h))\n",
    "$$\n",
    "\n",
    "Donde H(z) es la función de Heaveside y c,h son constantes."
   ]
  },
  {
   "cell_type": "code",
   "execution_count": 12,
   "metadata": {
    "collapsed": false
   },
   "outputs": [
    {
     "data": {
      "text/plain": [
       "H (generic function with 1 method)"
      ]
     },
     "execution_count": 12,
     "metadata": {},
     "output_type": "execute_result"
    }
   ],
   "source": [
    "#Heaviside\n",
    "function H(x)\n",
    "    if x>0\n",
    "        return 1\n",
    "    else\n",
    "        return 0\n",
    "    end\n",
    "end"
   ]
  },
  {
   "cell_type": "code",
   "execution_count": 18,
   "metadata": {
    "collapsed": false
   },
   "outputs": [
    {
     "data": {
      "text/plain": [
       "0"
      ]
     },
     "execution_count": 18,
     "metadata": {},
     "output_type": "execute_result"
    }
   ],
   "source": [
    "H(0)"
   ]
  },
  {
   "cell_type": "code",
   "execution_count": 22,
   "metadata": {
    "collapsed": false
   },
   "outputs": [
    {
     "data": {
      "text/plain": [
       "f_schizophrenia (generic function with 1 method)"
      ]
     },
     "execution_count": 22,
     "metadata": {},
     "output_type": "execute_result"
    }
   ],
   "source": [
    "function f_schizophrenia(c,h,t)\n",
    "    (c-h*t)*(1-H(t-c/h))\n",
    "end"
   ]
  },
  {
   "cell_type": "code",
   "execution_count": 81,
   "metadata": {
    "collapsed": false
   },
   "outputs": [
    {
     "data": {
      "text/plain": [
       "Schizophrenia (generic function with 1 method)"
      ]
     },
     "execution_count": 81,
     "metadata": {},
     "output_type": "execute_result"
    }
   ],
   "source": [
    "function Schizophrenia(R0::Number,T0::Number,L0::Number,p::Number,t0::Number,tf::Number)\n",
    "    b1=1.29\n",
    "    b2=0.97\n",
    "    b3=1.39\n",
    "    \n",
    "    g1=10\n",
    "    g2=0.7\n",
    "    \n",
    "    c=2\n",
    "    h_f=1\n",
    "    \n",
    "    t=[t0]\n",
    "    R=[R0]\n",
    "    L=[L0]\n",
    "    T=[T0]\n",
    "    while t0 < tf\n",
    "        RT=Taylor1(R0,p)\n",
    "        LT=Taylor1(L0,p)\n",
    "        TT=Taylor1(T0,p)\n",
    "        fT=Taylor1(f_schizophrenia(c,h_f,T0),p)\n",
    "        for i in range(1,p)\n",
    "            RT.coeffs[i+1] = fT.coeffs[i]/i-b1*RT.coeffs[i]/i\n",
    "            LT.coeffs[i+1] = g1*RT.coeffs[i]/i-b2*LT.coeffs[i]/i\n",
    "            TT.coeffs[i+1] = g2*LT.coeffs[i]/i-b3*TT.coeffs[i]/i\n",
    "        end\n",
    "        hR=h_find(RT.coeffs,p)\n",
    "        hL=h_find(LT.coeffs,p)\n",
    "        hT=h_find(TT.coeffs,p)\n",
    "        h=minimum([hR,hL,hT])\n",
    "        t0=t0+h\n",
    "        R0=evaluate(RT,h)\n",
    "        L0=evaluate(LT,h)\n",
    "        T0=evaluate(TT,h)\n",
    "        push!(t,t0)\n",
    "        push!(R,R0)\n",
    "        push!(L,L0)\n",
    "        push!(T,T0)\n",
    "    end\n",
    "    return (t,R,L,T)\n",
    "end"
   ]
  },
  {
   "cell_type": "code",
   "execution_count": 82,
   "metadata": {
    "collapsed": false
   },
   "outputs": [],
   "source": [
    "t_s=Schizophrenia(1.0,2.0,3.0,5,0.0,10.0)[1];\n",
    "R_s=Schizophrenia(1.0,2.0,3.0,5,0.0,10.0)[2];\n",
    "L_s=Schizophrenia(1.0,2.0,3.0,5,0.0,10.0)[3];\n",
    "T_s=Schizophrenia(1.0,2.0,3.0,5,0.0,10.0)[4];"
   ]
  },
  {
   "cell_type": "code",
   "execution_count": 83,
   "metadata": {
    "collapsed": false
   },
   "outputs": [
    {
     "data": {
      "image/png": "[encoded data removed]",
      "text/plain": [
       "PyPlot.Figure(PyObject <matplotlib.figure.Figure object at 0x000000001D69DEF0>)"
      ]
     },
     "metadata": {},
     "output_type": "display_data"
    },
    {
     "data": {
      "text/plain": [
       "1-element Array{Any,1}:\n",
       " PyObject <matplotlib.lines.Line2D object at 0x0000000023B042B0>"
      ]
     },
     "execution_count": 83,
     "metadata": {},
     "output_type": "execute_result"
    }
   ],
   "source": [
    "plot(t_s,R_s,\"r.\")\n",
    "plot(t_s,T_s, \"b.\")\n",
    "plot(t_s,L_s, \"g.\")"
   ]
  },
  {
   "cell_type": "code",
   "execution_count": 92,
   "metadata": {
    "collapsed": false
   },
   "outputs": [
    {
     "data": {
      "text/plain": [
       "Schizophrenia_Pituitary_Repression (generic function with 1 method)"
      ]
     },
     "execution_count": 92,
     "metadata": {},
     "output_type": "execute_result"
    }
   ],
   "source": [
    "function Schizophrenia_Pituitary_Repression(R0::Number,T0::Number,L0::Number,p::Number,t0::Number,tf::Number)\n",
    "    b1=1.29\n",
    "    b2=0.97\n",
    "    b3=1.39\n",
    "    \n",
    "    g1=10\n",
    "    g2=0.7\n",
    "    \n",
    "    c=2\n",
    "    h_f=1\n",
    "    \n",
    "    t=[t0]\n",
    "    R=[R0]\n",
    "    L=[L0]\n",
    "    T=[T0]\n",
    "    \n",
    "    Wt=c*b3/h_f-0.5\n",
    "    while t0 < tf\n",
    "        RT=Taylor1(R0,p)\n",
    "        LT=Taylor1(L0,p)\n",
    "        TT=Taylor1(T0,p)\n",
    "        fT=Taylor1(f_schizophrenia(c,h_f,T0),p)\n",
    "        WtT=Taylor1(Wt,p)\n",
    "        for i in range(1,p)\n",
    "            RT.coeffs[i+1] = fT.coeffs[i]/i-b1*RT.coeffs[i]/i\n",
    "            LT.coeffs[i+1] = g1*RT.coeffs[i]/i-b2*LT.coeffs[i]/i\n",
    "            TT.coeffs[i+1] = g2*LT.coeffs[i]/i-b3*TT.coeffs[i]/i+WtT.coeffs[i]/i\n",
    "        end\n",
    "        hR=h_find(RT.coeffs,p)\n",
    "        hL=h_find(LT.coeffs,p)\n",
    "        hT=h_find(TT.coeffs,p)\n",
    "        h=minimum([hR,hL,hT])\n",
    "        t0=t0+h\n",
    "        R0=evaluate(RT,h)\n",
    "        L0=evaluate(LT,h)\n",
    "        T0=evaluate(TT,h)\n",
    "        push!(t,t0)\n",
    "        push!(R,R0)\n",
    "        push!(L,L0)\n",
    "        push!(T,T0)\n",
    "    end\n",
    "    return (t,R,L,T)\n",
    "end"
   ]
  },
  {
   "cell_type": "code",
   "execution_count": 93,
   "metadata": {
    "collapsed": false
   },
   "outputs": [
    {
     "data": {
      "text/plain": [
       " 4 + 2 t + 2 t² + 𝒪(t⁵⁹)"
      ]
     },
     "execution_count": 93,
     "metadata": {},
     "output_type": "execute_result"
    }
   ],
   "source": [
    "Taylor1(2,58)+Taylor1([2,2,2],58)"
   ]
  },
  {
   "cell_type": "code",
   "execution_count": 94,
   "metadata": {
    "collapsed": false
   },
   "outputs": [],
   "source": [
    "t_sp=Schizophrenia_Pituitary_Repression(1.0,2.0,3.0,5,0.0,10.0)[1];\n",
    "R_sp=Schizophrenia_Pituitary_Repression(1.0,2.0,3.0,5,0.0,10.0)[2];\n",
    "L_sp=Schizophrenia_Pituitary_Repression(1.0,2.0,3.0,5,0.0,10.0)[3];\n",
    "T_sp=Schizophrenia_Pituitary_Repression(1.0,2.0,3.0,5,0.0,10.0)[4];"
   ]
  },
  {
   "cell_type": "markdown",
   "metadata": {},
   "source": [
    "Como dice el artículo para valores de $w_{t} > \\frac{cb_{3}}{h} $ L y R se van a cero comprobando lo descrito en [2], y para valores menores se tiene una osiclación de esas variables. T por otro lado debe tender al valor de $ \\frac{W_{t}}{b_{3}}  $"
   ]
  },
  {
   "cell_type": "code",
   "execution_count": 95,
   "metadata": {
    "collapsed": false
   },
   "outputs": [
    {
     "data": {
      "image/png": "[encoded data removed]",
      "text/plain": [
       "PyPlot.Figure(PyObject <matplotlib.figure.Figure object at 0x0000000023D73828>)"
      ]
     },
     "metadata": {},
     "output_type": "display_data"
    },
    {
     "data": {
      "text/plain": [
       "1-element Array{Any,1}:\n",
       " PyObject <matplotlib.lines.Line2D object at 0x0000000025B70AC8>"
      ]
     },
     "execution_count": 95,
     "metadata": {},
     "output_type": "execute_result"
    }
   ],
   "source": [
    "plot(t_sp,R_sp,\"r.\")\n",
    "plot(t_sp,T_sp, \"b.\")\n",
    "plot(t_sp,L_sp, \"g.\")"
   ]
  },
  {
   "cell_type": "markdown",
   "metadata": {
    "collapsed": true
   },
   "source": [
    "Referencias:\n",
    "\n",
    "[1] Murray, J. D. 1989. Mathematical Biology. Volume 19. \n",
    "\n",
    "[2] Smith, William R. \"Hypothalamic regulation of pituitary secretion of luteinizing hormone—II feedback control of gonadotropin secretion.\" Bulletin of Mathematical Biology 42.1 (1980): 57-78."
   ]
  },
  {
   "cell_type": "code",
   "execution_count": null,
   "metadata": {
    "collapsed": true
   },
   "outputs": [],
   "source": []
  }
 ],
 "metadata": {
  "kernelspec": {
   "display_name": "Julia 0.4.5",
   "language": "julia",
   "name": "julia-0.4"
  },
  "language_info": {
   "file_extension": ".jl",
   "mimetype": "application/julia",
   "name": "julia",
   "version": "0.4.5"
  }
 },
 "nbformat": 4,
 "nbformat_minor": 0
}
